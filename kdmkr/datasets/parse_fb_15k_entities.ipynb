{
 "cells": [
  {
   "cell_type": "code",
   "execution_count": 249,
   "metadata": {},
   "outputs": [],
   "source": [
    "import pandas as pd\n",
    "import json"
   ]
  },
  {
   "cell_type": "code",
   "execution_count": 250,
   "metadata": {},
   "outputs": [],
   "source": [
    "train = pd.read_csv('./FB15k-237/train.txt', sep = '\\t', header = None)\n",
    "train.columns = ['head', 'relation', 'tail']"
   ]
  },
  {
   "cell_type": "code",
   "execution_count": 251,
   "metadata": {},
   "outputs": [],
   "source": [
    "test = pd.read_csv('./FB15k-237/test.txt', sep = '\\t', header = None)\n",
    "test.columns = ['head', 'relation', 'tail']"
   ]
  },
  {
   "cell_type": "code",
   "execution_count": 252,
   "metadata": {},
   "outputs": [],
   "source": [
    "valid = pd.read_csv('./FB15k-237/valid.txt', sep = '\\t', header = None)\n",
    "valid.columns = ['head', 'relation', 'tail']"
   ]
  },
  {
   "cell_type": "code",
   "execution_count": 253,
   "metadata": {},
   "outputs": [],
   "source": [
    "path_wikidata = '/Users/home/Documents/github/datasets_knowledge_embedding/FB15K-237/entity2wikidata.json'\n",
    "entities_wikidata = json.loads(open(path_wikidata).read())"
   ]
  },
  {
   "cell_type": "code",
   "execution_count": 254,
   "metadata": {},
   "outputs": [],
   "source": [
    "def get_entity(entity, entities_wikidata):\n",
    "    if entity in entities_wikidata:\n",
    "        return entities_wikidata[entity]['label'].lower().replace(' ', '_')\n",
    "    else:\n",
    "        return entity"
   ]
  },
  {
   "cell_type": "code",
   "execution_count": 255,
   "metadata": {},
   "outputs": [],
   "source": [
    "train['head'] = train['head'].apply(lambda head: get_entity(head, entities_wikidata))\n",
    "train['tail'] = train['tail'].apply(lambda tail: get_entity(tail, entities_wikidata))\n",
    "\n",
    "valid['head'] = valid['head'].apply(lambda head: get_entity(head, entities_wikidata))\n",
    "valid['tail'] = valid['tail'].apply(lambda tail: get_entity(tail, entities_wikidata))\n",
    "\n",
    "test['head'] = test['head'].apply(lambda head: get_entity(head, entities_wikidata))\n",
    "test['tail'] = test['tail'].apply(lambda tail: get_entity(tail, entities_wikidata))"
   ]
  },
  {
   "cell_type": "code",
   "execution_count": 256,
   "metadata": {},
   "outputs": [
    {
     "data": {
      "text/html": [
       "<div>\n",
       "<style scoped>\n",
       "    .dataframe tbody tr th:only-of-type {\n",
       "        vertical-align: middle;\n",
       "    }\n",
       "\n",
       "    .dataframe tbody tr th {\n",
       "        vertical-align: top;\n",
       "    }\n",
       "\n",
       "    .dataframe thead th {\n",
       "        text-align: right;\n",
       "    }\n",
       "</style>\n",
       "<table border=\"1\" class=\"dataframe\">\n",
       "  <thead>\n",
       "    <tr style=\"text-align: right;\">\n",
       "      <th></th>\n",
       "      <th>head</th>\n",
       "      <th>relation</th>\n",
       "      <th>tail</th>\n",
       "    </tr>\n",
       "  </thead>\n",
       "  <tbody>\n",
       "    <tr>\n",
       "      <th>0</th>\n",
       "      <td>dominican_republic</td>\n",
       "      <td>/location/country/form_of_government</td>\n",
       "      <td>republic</td>\n",
       "    </tr>\n",
       "    <tr>\n",
       "      <th>1</th>\n",
       "      <td>mighty_morphin_power_rangers</td>\n",
       "      <td>/tv/tv_program/regular_cast./tv/regular_tv_app...</td>\n",
       "      <td>wendee_lee</td>\n",
       "    </tr>\n",
       "    <tr>\n",
       "      <th>2</th>\n",
       "      <td>drama_film</td>\n",
       "      <td>/media_common/netflix_genre/titles</td>\n",
       "      <td>american_history_x</td>\n",
       "    </tr>\n",
       "    <tr>\n",
       "      <th>3</th>\n",
       "      <td>michelle_rodriguez</td>\n",
       "      <td>/award/award_winner/awards_won./award/award_ho...</td>\n",
       "      <td>naveen_andrews</td>\n",
       "    </tr>\n",
       "    <tr>\n",
       "      <th>4</th>\n",
       "      <td>australia_national_association_football_team</td>\n",
       "      <td>/soccer/football_team/current_roster./sports/s...</td>\n",
       "      <td>midfielder</td>\n",
       "    </tr>\n",
       "  </tbody>\n",
       "</table>\n",
       "</div>"
      ],
      "text/plain": [
       "                                           head  \\\n",
       "0                            dominican_republic   \n",
       "1                  mighty_morphin_power_rangers   \n",
       "2                                    drama_film   \n",
       "3                            michelle_rodriguez   \n",
       "4  australia_national_association_football_team   \n",
       "\n",
       "                                            relation                tail  \n",
       "0               /location/country/form_of_government            republic  \n",
       "1  /tv/tv_program/regular_cast./tv/regular_tv_app...          wendee_lee  \n",
       "2                 /media_common/netflix_genre/titles  american_history_x  \n",
       "3  /award/award_winner/awards_won./award/award_ho...      naveen_andrews  \n",
       "4  /soccer/football_team/current_roster./sports/s...          midfielder  "
      ]
     },
     "execution_count": 256,
     "metadata": {},
     "output_type": "execute_result"
    }
   ],
   "source": [
    "train.head()"
   ]
  },
  {
   "cell_type": "code",
   "execution_count": 257,
   "metadata": {},
   "outputs": [
    {
     "data": {
      "text/html": [
       "<div>\n",
       "<style scoped>\n",
       "    .dataframe tbody tr th:only-of-type {\n",
       "        vertical-align: middle;\n",
       "    }\n",
       "\n",
       "    .dataframe tbody tr th {\n",
       "        vertical-align: top;\n",
       "    }\n",
       "\n",
       "    .dataframe thead th {\n",
       "        text-align: right;\n",
       "    }\n",
       "</style>\n",
       "<table border=\"1\" class=\"dataframe\">\n",
       "  <thead>\n",
       "    <tr style=\"text-align: right;\">\n",
       "      <th></th>\n",
       "      <th>head</th>\n",
       "      <th>relation</th>\n",
       "      <th>tail</th>\n",
       "    </tr>\n",
       "  </thead>\n",
       "  <tbody>\n",
       "    <tr>\n",
       "      <th>0</th>\n",
       "      <td>american_pie</td>\n",
       "      <td>/film/film/genre</td>\n",
       "      <td>romance_film</td>\n",
       "    </tr>\n",
       "    <tr>\n",
       "      <th>1</th>\n",
       "      <td>st._louis</td>\n",
       "      <td>/location/location/time_zones</td>\n",
       "      <td>central_time_zone</td>\n",
       "    </tr>\n",
       "    <tr>\n",
       "      <th>2</th>\n",
       "      <td>george_burns</td>\n",
       "      <td>/people/person/spouse_s./people/marriage/type_...</td>\n",
       "      <td>marriage</td>\n",
       "    </tr>\n",
       "    <tr>\n",
       "      <th>3</th>\n",
       "      <td>primetime_emmy_award_for_outstanding_writing_f...</td>\n",
       "      <td>/award/award_category/winners./award/award_hon...</td>\n",
       "      <td>david_chase</td>\n",
       "    </tr>\n",
       "    <tr>\n",
       "      <th>4</th>\n",
       "      <td>silent_hill</td>\n",
       "      <td>/film/film/release_date_s./film/film_regional_...</td>\n",
       "      <td>lithuania</td>\n",
       "    </tr>\n",
       "  </tbody>\n",
       "</table>\n",
       "</div>"
      ],
      "text/plain": [
       "                                                head  \\\n",
       "0                                       american_pie   \n",
       "1                                          st._louis   \n",
       "2                                       george_burns   \n",
       "3  primetime_emmy_award_for_outstanding_writing_f...   \n",
       "4                                        silent_hill   \n",
       "\n",
       "                                            relation               tail  \n",
       "0                                   /film/film/genre       romance_film  \n",
       "1                      /location/location/time_zones  central_time_zone  \n",
       "2  /people/person/spouse_s./people/marriage/type_...           marriage  \n",
       "3  /award/award_category/winners./award/award_hon...        david_chase  \n",
       "4  /film/film/release_date_s./film/film_regional_...          lithuania  "
      ]
     },
     "execution_count": 257,
     "metadata": {},
     "output_type": "execute_result"
    }
   ],
   "source": [
    "valid.head()"
   ]
  },
  {
   "cell_type": "code",
   "execution_count": 258,
   "metadata": {},
   "outputs": [
    {
     "data": {
      "text/html": [
       "<div>\n",
       "<style scoped>\n",
       "    .dataframe tbody tr th:only-of-type {\n",
       "        vertical-align: middle;\n",
       "    }\n",
       "\n",
       "    .dataframe tbody tr th {\n",
       "        vertical-align: top;\n",
       "    }\n",
       "\n",
       "    .dataframe thead th {\n",
       "        text-align: right;\n",
       "    }\n",
       "</style>\n",
       "<table border=\"1\" class=\"dataframe\">\n",
       "  <thead>\n",
       "    <tr style=\"text-align: right;\">\n",
       "      <th></th>\n",
       "      <th>head</th>\n",
       "      <th>relation</th>\n",
       "      <th>tail</th>\n",
       "    </tr>\n",
       "  </thead>\n",
       "  <tbody>\n",
       "    <tr>\n",
       "      <th>0</th>\n",
       "      <td>zürich</td>\n",
       "      <td>/travel/travel_destination/climate./travel/tra...</td>\n",
       "      <td>october</td>\n",
       "    </tr>\n",
       "    <tr>\n",
       "      <th>1</th>\n",
       "      <td>autoharp</td>\n",
       "      <td>/music/performance_role/regular_performances./...</td>\n",
       "      <td>heart</td>\n",
       "    </tr>\n",
       "    <tr>\n",
       "      <th>2</th>\n",
       "      <td>winnie_the_pooh</td>\n",
       "      <td>/film/film/release_date_s./film/film_regional_...</td>\n",
       "      <td>france</td>\n",
       "    </tr>\n",
       "    <tr>\n",
       "      <th>3</th>\n",
       "      <td>england</td>\n",
       "      <td>/location/location/contains</td>\n",
       "      <td>pontefract</td>\n",
       "    </tr>\n",
       "    <tr>\n",
       "      <th>4</th>\n",
       "      <td>england</td>\n",
       "      <td>/location/location/contains</td>\n",
       "      <td>lancaster</td>\n",
       "    </tr>\n",
       "  </tbody>\n",
       "</table>\n",
       "</div>"
      ],
      "text/plain": [
       "              head                                           relation  \\\n",
       "0           zürich  /travel/travel_destination/climate./travel/tra...   \n",
       "1         autoharp  /music/performance_role/regular_performances./...   \n",
       "2  winnie_the_pooh  /film/film/release_date_s./film/film_regional_...   \n",
       "3          england                        /location/location/contains   \n",
       "4          england                        /location/location/contains   \n",
       "\n",
       "         tail  \n",
       "0     october  \n",
       "1       heart  \n",
       "2      france  \n",
       "3  pontefract  \n",
       "4   lancaster  "
      ]
     },
     "execution_count": 258,
     "metadata": {},
     "output_type": "execute_result"
    }
   ],
   "source": [
    "test.head()"
   ]
  },
  {
   "cell_type": "code",
   "execution_count": 259,
   "metadata": {},
   "outputs": [],
   "source": [
    "df = pd.concat([train, test, valid], axis = \"rows\")\n",
    "\n",
    "entities = pd.concat(\n",
    "    [\n",
    "        pd.DataFrame(df['head']), \n",
    "        pd.DataFrame(df['tail']).rename(columns={'tail':'head'})\n",
    "    ], \n",
    "    axis='rows', \n",
    "    sort=False\n",
    ")"
   ]
  },
  {
   "cell_type": "code",
   "execution_count": 260,
   "metadata": {},
   "outputs": [],
   "source": [
    "entities = entities.drop_duplicates().reset_index(drop=True)\n",
    "entities = entities.to_dict()['head']\n",
    "entities = {value: key for key, value in entities.items()}"
   ]
  },
  {
   "cell_type": "code",
   "execution_count": 261,
   "metadata": {},
   "outputs": [],
   "source": [
    "with open('./fb15k237/entities.json', 'w') as output:\n",
    "    json.dump(entities, output, indent=4)"
   ]
  },
  {
   "cell_type": "code",
   "execution_count": 262,
   "metadata": {},
   "outputs": [],
   "source": [
    "relations = df['relation'].drop_duplicates().reset_index(drop=True).to_dict()\n",
    "relations = {value: key for key, value in relations.items()} \n",
    "\n",
    "with open('./fb15k237/relations.json', 'w') as output:\n",
    "    json.dump(relations, output, indent=4)"
   ]
  },
  {
   "cell_type": "code",
   "execution_count": 263,
   "metadata": {},
   "outputs": [],
   "source": [
    "train['head'] = train['head'].apply(lambda head: entities[head])\n",
    "train['relation'] = train['relation'].apply(lambda relation: relations[relation])\n",
    "train['tail'] = train['tail'].apply(lambda tail: entities[tail])"
   ]
  },
  {
   "cell_type": "code",
   "execution_count": 264,
   "metadata": {},
   "outputs": [
    {
     "data": {
      "text/html": [
       "<div>\n",
       "<style scoped>\n",
       "    .dataframe tbody tr th:only-of-type {\n",
       "        vertical-align: middle;\n",
       "    }\n",
       "\n",
       "    .dataframe tbody tr th {\n",
       "        vertical-align: top;\n",
       "    }\n",
       "\n",
       "    .dataframe thead th {\n",
       "        text-align: right;\n",
       "    }\n",
       "</style>\n",
       "<table border=\"1\" class=\"dataframe\">\n",
       "  <thead>\n",
       "    <tr style=\"text-align: right;\">\n",
       "      <th></th>\n",
       "      <th>head</th>\n",
       "      <th>relation</th>\n",
       "      <th>tail</th>\n",
       "    </tr>\n",
       "  </thead>\n",
       "  <tbody>\n",
       "    <tr>\n",
       "      <th>0</th>\n",
       "      <td>0</td>\n",
       "      <td>0</td>\n",
       "      <td>13624</td>\n",
       "    </tr>\n",
       "    <tr>\n",
       "      <th>1</th>\n",
       "      <td>1</td>\n",
       "      <td>1</td>\n",
       "      <td>3865</td>\n",
       "    </tr>\n",
       "    <tr>\n",
       "      <th>2</th>\n",
       "      <td>2</td>\n",
       "      <td>2</td>\n",
       "      <td>11613</td>\n",
       "    </tr>\n",
       "    <tr>\n",
       "      <th>3</th>\n",
       "      <td>3</td>\n",
       "      <td>3</td>\n",
       "      <td>5093</td>\n",
       "    </tr>\n",
       "    <tr>\n",
       "      <th>4</th>\n",
       "      <td>4</td>\n",
       "      <td>4</td>\n",
       "      <td>1243</td>\n",
       "    </tr>\n",
       "  </tbody>\n",
       "</table>\n",
       "</div>"
      ],
      "text/plain": [
       "   head  relation   tail\n",
       "0     0         0  13624\n",
       "1     1         1   3865\n",
       "2     2         2  11613\n",
       "3     3         3   5093\n",
       "4     4         4   1243"
      ]
     },
     "execution_count": 264,
     "metadata": {},
     "output_type": "execute_result"
    }
   ],
   "source": [
    "train.head()"
   ]
  },
  {
   "cell_type": "code",
   "execution_count": 265,
   "metadata": {},
   "outputs": [],
   "source": [
    "valid['head'] = valid['head'].apply(lambda head: entities[head])\n",
    "valid['relation'] = valid['relation'].apply(lambda relation: relations[relation])\n",
    "valid['tail'] = valid['tail'].apply(lambda tail: entities[tail])"
   ]
  },
  {
   "cell_type": "code",
   "execution_count": 266,
   "metadata": {},
   "outputs": [
    {
     "data": {
      "text/html": [
       "<div>\n",
       "<style scoped>\n",
       "    .dataframe tbody tr th:only-of-type {\n",
       "        vertical-align: middle;\n",
       "    }\n",
       "\n",
       "    .dataframe tbody tr th {\n",
       "        vertical-align: top;\n",
       "    }\n",
       "\n",
       "    .dataframe thead th {\n",
       "        text-align: right;\n",
       "    }\n",
       "</style>\n",
       "<table border=\"1\" class=\"dataframe\">\n",
       "  <thead>\n",
       "    <tr style=\"text-align: right;\">\n",
       "      <th></th>\n",
       "      <th>head</th>\n",
       "      <th>relation</th>\n",
       "      <th>tail</th>\n",
       "    </tr>\n",
       "  </thead>\n",
       "  <tbody>\n",
       "    <tr>\n",
       "      <th>0</th>\n",
       "      <td>4349</td>\n",
       "      <td>31</td>\n",
       "      <td>2741</td>\n",
       "    </tr>\n",
       "    <tr>\n",
       "      <th>1</th>\n",
       "      <td>9339</td>\n",
       "      <td>154</td>\n",
       "      <td>13672</td>\n",
       "    </tr>\n",
       "    <tr>\n",
       "      <th>2</th>\n",
       "      <td>6274</td>\n",
       "      <td>85</td>\n",
       "      <td>950</td>\n",
       "    </tr>\n",
       "    <tr>\n",
       "      <th>3</th>\n",
       "      <td>7226</td>\n",
       "      <td>47</td>\n",
       "      <td>2160</td>\n",
       "    </tr>\n",
       "    <tr>\n",
       "      <th>4</th>\n",
       "      <td>1404</td>\n",
       "      <td>13</td>\n",
       "      <td>596</td>\n",
       "    </tr>\n",
       "  </tbody>\n",
       "</table>\n",
       "</div>"
      ],
      "text/plain": [
       "   head  relation   tail\n",
       "0  4349        31   2741\n",
       "1  9339       154  13672\n",
       "2  6274        85    950\n",
       "3  7226        47   2160\n",
       "4  1404        13    596"
      ]
     },
     "execution_count": 266,
     "metadata": {},
     "output_type": "execute_result"
    }
   ],
   "source": [
    "valid.head()"
   ]
  },
  {
   "cell_type": "code",
   "execution_count": 267,
   "metadata": {},
   "outputs": [],
   "source": [
    "test['head'] = test['head'].apply(lambda head: entities[head])\n",
    "test['relation'] = test['relation'].apply(lambda relation: relations[relation])\n",
    "test['tail'] = test['tail'].apply(lambda tail: entities[tail])"
   ]
  },
  {
   "cell_type": "code",
   "execution_count": 268,
   "metadata": {},
   "outputs": [
    {
     "data": {
      "text/html": [
       "<div>\n",
       "<style scoped>\n",
       "    .dataframe tbody tr th:only-of-type {\n",
       "        vertical-align: middle;\n",
       "    }\n",
       "\n",
       "    .dataframe tbody tr th {\n",
       "        vertical-align: top;\n",
       "    }\n",
       "\n",
       "    .dataframe thead th {\n",
       "        text-align: right;\n",
       "    }\n",
       "</style>\n",
       "<table border=\"1\" class=\"dataframe\">\n",
       "  <thead>\n",
       "    <tr style=\"text-align: right;\">\n",
       "      <th></th>\n",
       "      <th>head</th>\n",
       "      <th>relation</th>\n",
       "      <th>tail</th>\n",
       "    </tr>\n",
       "  </thead>\n",
       "  <tbody>\n",
       "    <tr>\n",
       "      <th>0</th>\n",
       "      <td>4798</td>\n",
       "      <td>148</td>\n",
       "      <td>10648</td>\n",
       "    </tr>\n",
       "    <tr>\n",
       "      <th>1</th>\n",
       "      <td>838</td>\n",
       "      <td>92</td>\n",
       "      <td>12858</td>\n",
       "    </tr>\n",
       "    <tr>\n",
       "      <th>2</th>\n",
       "      <td>4578</td>\n",
       "      <td>13</td>\n",
       "      <td>352</td>\n",
       "    </tr>\n",
       "    <tr>\n",
       "      <th>3</th>\n",
       "      <td>1164</td>\n",
       "      <td>15</td>\n",
       "      <td>14139</td>\n",
       "    </tr>\n",
       "    <tr>\n",
       "      <th>4</th>\n",
       "      <td>1164</td>\n",
       "      <td>15</td>\n",
       "      <td>12385</td>\n",
       "    </tr>\n",
       "  </tbody>\n",
       "</table>\n",
       "</div>"
      ],
      "text/plain": [
       "   head  relation   tail\n",
       "0  4798       148  10648\n",
       "1   838        92  12858\n",
       "2  4578        13    352\n",
       "3  1164        15  14139\n",
       "4  1164        15  12385"
      ]
     },
     "execution_count": 268,
     "metadata": {},
     "output_type": "execute_result"
    }
   ],
   "source": [
    "test.head()"
   ]
  },
  {
   "cell_type": "code",
   "execution_count": 269,
   "metadata": {},
   "outputs": [],
   "source": [
    "train.to_csv('./fb15k237/train.csv', index=False, header=None)"
   ]
  },
  {
   "cell_type": "code",
   "execution_count": 270,
   "metadata": {},
   "outputs": [],
   "source": [
    "valid.to_csv('./fb15k237/valid.csv', index=False, header=None)"
   ]
  },
  {
   "cell_type": "code",
   "execution_count": 271,
   "metadata": {},
   "outputs": [],
   "source": [
    "test.to_csv('./fb15k237/test.csv', index=False, header=None)"
   ]
  },
  {
   "cell_type": "code",
   "execution_count": null,
   "metadata": {},
   "outputs": [],
   "source": []
  }
 ],
 "metadata": {
  "kernelspec": {
   "display_name": "Python 3",
   "language": "python",
   "name": "python3"
  },
  "language_info": {
   "codemirror_mode": {
    "name": "ipython",
    "version": 3
   },
   "file_extension": ".py",
   "mimetype": "text/x-python",
   "name": "python",
   "nbconvert_exporter": "python",
   "pygments_lexer": "ipython3",
   "version": "3.7.4"
  }
 },
 "nbformat": 4,
 "nbformat_minor": 2
}
